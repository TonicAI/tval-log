{
 "cells": [
  {
   "cell_type": "markdown",
   "id": "ce111584",
   "metadata": {},
   "source": [
    "# Quickstart Notebook\n",
    "\n",
    "This notebook shows how to log RAG system answers to Tonic Validate using the Tonic Validate logging package, `tvallogging`. A simple RAG system is made using LlamaIndex to answer questions about 6 Paul Graham essays taken from his website about founders. Answers to 10 benchmark questions are logged along with the RAG metrics which are calculated using the Tonic Validate package.\n",
    "\n",
    "In this notebook we work with a benchmark of questions without reference answers, calculating the RAG metrics that do not need a reference answer."
   ]
  },
  {
   "cell_type": "code",
   "execution_count": 1,
   "id": "65e1eab1",
   "metadata": {
    "scrolled": true
   },
   "outputs": [],
   "source": [
    "import json\n",
    "from llama_index import VectorStoreIndex, SimpleDirectoryReader"
   ]
  },
  {
   "cell_type": "markdown",
   "id": "ca2ffa1a",
   "metadata": {},
   "source": [
    "Set up RAG system."
   ]
  },
  {
   "cell_type": "code",
   "execution_count": 2,
   "id": "410049f0",
   "metadata": {
    "scrolled": true
   },
   "outputs": [],
   "source": [
    "documents = SimpleDirectoryReader(\"./paul_graham_essays\").load_data()\n",
    "index = VectorStoreIndex.from_documents(documents)\n",
    "query_engine = index.as_query_engine()"
   ]
  },
  {
   "cell_type": "markdown",
   "id": "d50333cb",
   "metadata": {},
   "source": [
    "Load the benchmark questions and answers."
   ]
  },
  {
   "cell_type": "code",
   "execution_count": 3,
   "id": "3ce7e18c",
   "metadata": {
    "scrolled": true
   },
   "outputs": [],
   "source": [
    "with open(\"question_and_answer_list.json\", \"r\") as f:\n",
    "    question_and_answer_list = json.load(f)\n",
    "\n",
    "question_and_answer_list = [dict(question=x[\"question\"], answer=\"\") for x in question_and_answer_list]"
   ]
  },
  {
   "cell_type": "code",
   "execution_count": 4,
   "id": "57071663",
   "metadata": {
    "scrolled": false
   },
   "outputs": [
    {
     "data": {
      "text/plain": [
       "[{'question': 'What makes Sam Altman a good founder?', 'answer': ''},\n",
       " {'question': 'When was the essay \"Five Founders\" written?', 'answer': ''},\n",
       " {'question': 'When does the most dramatic growth happen for a startup?',\n",
       "  'answer': ''},\n",
       " {'question': 'What is the problem with business culture versus start up culture with respect to productivity?',\n",
       "  'answer': ''},\n",
       " {'question': \"What's the single biggest thing the government could do to increase the number of startups in this country?\",\n",
       "  'answer': ''},\n",
       " {'question': 'How could one create a rigorous government definition of what a startup is to categorize whether a business is a startup?',\n",
       "  'answer': ''},\n",
       " {'question': 'Why is frienship a good quality of founders?', 'answer': ''},\n",
       " {'question': 'Why is determination the most important quality in startup founders?',\n",
       "  'answer': ''},\n",
       " {'question': 'For startups, what does board control mean in practice?',\n",
       "  'answer': ''},\n",
       " {'question': \"What's in the way of founders keeping board control after a series A?\",\n",
       "  'answer': ''}]"
      ]
     },
     "execution_count": 4,
     "metadata": {},
     "output_type": "execute_result"
    }
   ],
   "source": [
    "question_and_answer_list"
   ]
  },
  {
   "cell_type": "markdown",
   "id": "133a199b",
   "metadata": {},
   "source": [
    "Start using Tonic Validate to log answer to the benchmark questions that are from the RAG system."
   ]
  },
  {
   "cell_type": "code",
   "execution_count": 5,
   "id": "7f6e9117",
   "metadata": {
    "scrolled": true
   },
   "outputs": [],
   "source": [
    "from tvallogging.api import TonicValidateApi\n",
    "from tvallogginginging.chat_objects import Benchmark"
   ]
  },
  {
   "cell_type": "markdown",
   "id": "ed99bb00",
   "metadata": {},
   "source": [
    "Create a TonicValidateApi instance. For this to work, get a Tonic Validate API key from the Tonic Validate UI and set the environmental variable `TONIC_VALIDATE_API_KEY`."
   ]
  },
  {
   "cell_type": "code",
   "execution_count": 6,
   "id": "7ec713ac",
   "metadata": {},
   "outputs": [],
   "source": [
    "# set TONIC_VALIDATE_API_KEY environment variable\n",
    "# import os\n",
    "# os.environ[\"TONIC_VALIDATE_API_KEY\"] = \"put-your-api-key-here\"\n",
    "\n",
    "api = TonicValidateApi()"
   ]
  },
  {
   "cell_type": "markdown",
   "id": "c8a13603",
   "metadata": {},
   "source": [
    "Create new benchmark on Tonic Validate server."
   ]
  },
  {
   "cell_type": "code",
   "execution_count": 7,
   "id": "11bfce62",
   "metadata": {
    "scrolled": true
   },
   "outputs": [],
   "source": [
    "benchmark = Benchmark.from_json_list(question_and_answer_list)\n",
    "benchmark_id = api.new_benchmark(benchmark, \"Paul Graham Quickstart No Reference Answers Benchmark\")"
   ]
  },
  {
   "cell_type": "markdown",
   "id": "0c5cc21e",
   "metadata": {},
   "source": [
    "Create new project on Tonic Validate server associated with the created benchmark."
   ]
  },
  {
   "cell_type": "code",
   "execution_count": 8,
   "id": "8524dc0c",
   "metadata": {
    "scrolled": true
   },
   "outputs": [],
   "source": [
    "project = api.new_project(benchmark_id, \"Paul Graham Quickstart No Reference Answers Project\")"
   ]
  },
  {
   "cell_type": "markdown",
   "id": "15d6181c",
   "metadata": {},
   "source": [
    "Create a run in the in the project and log answers to the qeustions in benchmark with their scores. Specify the scores we want calculated in the run."
   ]
  },
  {
   "cell_type": "code",
   "execution_count": 9,
   "id": "fc5b2fa8",
   "metadata": {
    "scrolled": true
   },
   "outputs": [
    {
     "name": "stdout",
     "output_type": "stream",
     "text": [
      "logged What makes Sam Altman a good founder?\n",
      "logged When was the essay \"Five Founders\" written?\n",
      "logged When does the most dramatic growth happen for a startup?\n",
      "logged What is the problem with business culture versus start up culture with respect to productivity?\n",
      "logged What's the single biggest thing the government could do to increase the number of startups in this country?\n",
      "logged How could one create a rigorous government definition of what a startup is to categorize whether a business is a startup?\n",
      "logged Why is frienship a good quality of founders?\n",
      "logged Why is determination the most important quality in startup founders?\n",
      "logged For startups, what does board control mean in practice?\n",
      "logged What's in the way of founders keeping board control after a series A?\n"
     ]
    }
   ],
   "source": [
    "llm_evaluator = \"gpt-3.5-turbo\"\n",
    "# llm_evaluator = \"gpt-4\"\n",
    "run = project.new_run(\n",
    "    llm_evaluator=llm_evaluator,\n",
    "    retrieval_precision=True,\n",
    "    augmentation_precision=True,\n",
    "    augmentation_accuracy=True,\n",
    "    answer_consistency=True\n",
    ")\n",
    "\n",
    "for q_and_a in run.benchmark.question_with_answer_list:\n",
    "    \n",
    "    # get response to question from rag llm\n",
    "    question = q_and_a.question\n",
    "    response = query_engine.query(question)\n",
    "    \n",
    "    # get answer and context from response\n",
    "    llm_answer = response.response\n",
    "    context_list = [source_node.node.text for source_node in response.source_nodes]\n",
    "    \n",
    "    # log answer and context, this is where scores are calculated\n",
    "    run.log(q_and_a, llm_answer, context_list)\n",
    "    print(f\"logged {q_and_a.question}\")"
   ]
  },
  {
   "cell_type": "code",
   "execution_count": null,
   "id": "f6e9fe23",
   "metadata": {},
   "outputs": [],
   "source": []
  }
 ],
 "metadata": {
  "kernelspec": {
   "display_name": "Python 3 (ipykernel)",
   "language": "python",
   "name": "python3"
  },
  "language_info": {
   "codemirror_mode": {
    "name": "ipython",
    "version": 3
   },
   "file_extension": ".py",
   "mimetype": "text/x-python",
   "name": "python",
   "nbconvert_exporter": "python",
   "pygments_lexer": "ipython3",
   "version": "3.8.11"
  }
 },
 "nbformat": 4,
 "nbformat_minor": 5
}
