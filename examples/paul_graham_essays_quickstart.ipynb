{
 "cells": [
  {
   "cell_type": "markdown",
   "id": "d8a03faa",
   "metadata": {},
   "source": [
    "# Quickstart Notebook\n",
    "\n",
    "This notebook shows how to log RAG system answers to Tonic Validate using the Tonic Validate logging package, `tvallogging`. A simple RAG system is made using LlamaIndex to answer questions about 6 Paul Graham essays taken from his website about founders. Answers to 10 benchmark questions are logged along with the RAG metrics which are calculated using the Tonic Validate package."
   ]
  },
  {
   "cell_type": "code",
   "execution_count": 1,
   "id": "65e1eab1",
   "metadata": {
    "scrolled": true
   },
   "outputs": [],
   "source": [
    "import json\n",
    "from llama_index import VectorStoreIndex, SimpleDirectoryReader"
   ]
  },
  {
   "cell_type": "markdown",
   "id": "ca2ffa1a",
   "metadata": {},
   "source": [
    "Set up RAG system."
   ]
  },
  {
   "cell_type": "code",
   "execution_count": 2,
   "id": "410049f0",
   "metadata": {
    "scrolled": true
   },
   "outputs": [],
   "source": [
    "documents = SimpleDirectoryReader(\"./paul_graham_essays\").load_data()\n",
    "index = VectorStoreIndex.from_documents(documents)\n",
    "query_engine = index.as_query_engine()"
   ]
  },
  {
   "cell_type": "markdown",
   "id": "d50333cb",
   "metadata": {},
   "source": [
    "Load the benchmark questions and answers."
   ]
  },
  {
   "cell_type": "code",
   "execution_count": 3,
   "id": "3ce7e18c",
   "metadata": {
    "scrolled": true
   },
   "outputs": [],
   "source": [
    "with open(\"question_and_answer_list.json\", \"r\") as f:\n",
    "    question_and_answer_list = json.load(f)\n",
    "\n",
    "question_and_answer_list = [dict(question=x[\"question\"], answer=x[\"answer\"]) for x in question_and_answer_list]"
   ]
  },
  {
   "cell_type": "code",
   "execution_count": 4,
   "id": "57071663",
   "metadata": {
    "scrolled": false
   },
   "outputs": [
    {
     "data": {
      "text/plain": [
       "[{'question': 'What makes Sam Altman a good founder?',\n",
       "  'answer': 'He has a great force of will.'},\n",
       " {'question': 'When was the essay \"Five Founders\" written?',\n",
       "  'answer': 'April 2009'},\n",
       " {'question': 'When does the most dramatic growth happen for a startup?',\n",
       "  'answer': 'When the startup only has three or four people.'},\n",
       " {'question': 'What is the problem with business culture versus start up culture with respect to productivity?',\n",
       "  'answer': \"In business culture, energy is expended on outward appearance to the detriment of productivity, while in startup culture there is no value of appearance it's all about productivity.\"},\n",
       " {'question': \"What's the single biggest thing the government could do to increase the number of startups in this country?\",\n",
       "  'answer': 'Establish a new class of visa for startup founders.'},\n",
       " {'question': 'How could one create a rigorous government definition of what a startup is to categorize whether a business is a startup?',\n",
       "  'answer': 'One could define a startup as a company that has received investment by recognized startup investors. An accreditation procedure would be determined to establish recognized startup investors.'},\n",
       " {'question': 'Why is frienship a good quality of founders?',\n",
       "  'answer': 'Friendship is a good quality of founders because building a startup is tough and without a strong friendship building the startup will tear the founders apart.'},\n",
       " {'question': 'Why is determination the most important quality in startup founders?',\n",
       "  'answer': \"Because when building a startup you're going to hit a lot of obstacles, and determination will prevent one from getting demoralized by the constant obstacles.\"},\n",
       " {'question': 'For startups, what does board control mean in practice?',\n",
       "  'answer': 'During board meetings, matters are decided in the discussion preceding the vote, not in the vote itself, which is usually unanimous. If opinion is divided in such discussions, the side that knows it would lose in a vote tends to be less insistent. This is what board control means in practice.'},\n",
       " {'question': \"What's in the way of founders keeping board control after a series A?\",\n",
       "  'answer': \"The perception that founders keeping board control after a series A being a concession a VC has made when negotiating with startups. VCs do not want to look like they've lost a negotiation. If founders keeping control after a series A is the norm, then it happening will not look like the VCs lost the negotiation.\"}]"
      ]
     },
     "execution_count": 4,
     "metadata": {},
     "output_type": "execute_result"
    }
   ],
   "source": [
    "question_and_answer_list"
   ]
  },
  {
   "cell_type": "code",
   "execution_count": 5,
   "id": "7871eed9",
   "metadata": {},
   "outputs": [
    {
     "data": {
      "text/plain": [
       "'What makes Sam Altman a good founder?'"
      ]
     },
     "execution_count": 5,
     "metadata": {},
     "output_type": "execute_result"
    }
   ],
   "source": [
    "ex_question = question_and_answer_list[0][\"question\"]\n",
    "ex_question"
   ]
  },
  {
   "cell_type": "code",
   "execution_count": 6,
   "id": "459b964a",
   "metadata": {},
   "outputs": [
    {
     "data": {
      "text/plain": [
       "'He has a great force of will.'"
      ]
     },
     "execution_count": 6,
     "metadata": {},
     "output_type": "execute_result"
    }
   ],
   "source": [
    "ex_reference_answer = question_and_answer_list[0][\"answer\"]\n",
    "ex_reference_answer"
   ]
  },
  {
   "cell_type": "code",
   "execution_count": 7,
   "id": "f9ac065e",
   "metadata": {},
   "outputs": [
    {
     "data": {
      "text/plain": [
       "\"Sam Altman is considered a good founder because he possesses qualities that are highly valued in the startup world. He is known for his determination and force of will, which are crucial for overcoming obstacles and not getting demoralized easily. Altman is also known for his strategic thinking and ambition, which make him a valuable source of advice for startups. Additionally, Altman has a strong sense of design and an ability to think outside the box, which allows him to come up with innovative ideas. Overall, Altman's combination of determination, strategic thinking, and creativity make him a successful and influential founder.\""
      ]
     },
     "execution_count": 7,
     "metadata": {},
     "output_type": "execute_result"
    }
   ],
   "source": [
    "ex_response = query_engine.query(ex_question)\n",
    "ex_llm_answer = ex_response.response\n",
    "ex_llm_answer"
   ]
  },
  {
   "cell_type": "code",
   "execution_count": 8,
   "id": "94cf310b",
   "metadata": {},
   "outputs": [
    {
     "data": {
      "text/plain": [
       "['Five Founders\\n\\nApril 2009\\n\\nInc recently asked me who I thought were the 5 most interesting startup founders of the last 30 years. How do you decide who\\'s the most interesting? The best test seemed to be influence: who are the 5 who\\'ve influenced me most? Who do I use as examples when I\\'m talking to companies we fund? Who do I find myself quoting?1. Steve JobsI\\'d guess Steve is the most influential founder not just for me but for most people you could ask. A lot of startup culture is Apple culture. He was the original young founder. And while the concept of \"insanely great\" already existed in the arts, it was a novel idea to introduce into a company in the 1980s. More remarkable still, he\\'s stayed interesting for 30 years. People await new Apple products the way they\\'d await new books by a popular novelist. Steve may not literally design them, but they wouldn\\'t happen if he weren\\'t CEO. Steve is clever and driven, but so are a lot of people in the Valley. What makes him unique is his sense of design. Before him, most companies treated design as a frivolous extra. Apple\\'s competitors now know better.2. TJ RodgersTJ Rodgers isn\\'t as famous as Steve Jobs, but he may be the best writer among Silicon Valley CEOs. I\\'ve probably learned more from him about the startup way of thinking than from anyone else. Not so much from specific things he\\'s written as by reconstructing the mind that produced them: brutally candid; aggressively garbage-collecting outdated ideas; and yet driven by pragmatism rather than ideology. The first essay of his that I read was so electrifying that I remember exactly where I was at the time. It was High Technology Innovation: Free Markets or Government Subsidies? and I was downstairs in the Harvard Square T Station. It felt as if someone had flipped on a light switch inside my head.3. Larry & SergeyI\\'m sorry to treat Larry and Sergey as one person. I\\'ve always thought that was unfair to them. But it does seem as if Google was a collaboration. Before Google, companies in Silicon Valley already knew it was important to have the best hackers. So they claimed, at least. But Google pushed this idea further than anyone had before. Their hypothesis seems to have been that, in the initial stages at least, all you need is good hackers: if you hire all the smartest people and put them to work on a problem where their success can be measured, you win. All the other stuff—which includes all the stuff that business schools think business consists of—you can figure out along the way. The results won\\'t be perfect, but they\\'ll be optimal. If this was their hypothesis, it\\'s now been verified experimentally.4. Paul BuchheitFew know this, but one person, Paul Buchheit, is responsible for three of the best things Google has done. He was the original author of GMail, which is the most impressive thing Google has after search. He also wrote the first prototype of AdSense, and was the author of Google\\'s mantra \"Don\\'t be evil.\"PB made a point in a talk once that I now mention to every startup we fund: that it\\'s better, initially, to make a small number of users really love you than a large number kind of like you. If I could tell startups only ten sentences, this would be one of them. Now he\\'s cofounder of a startup called Friendfeed. It\\'s only a year old, but already everyone in the Valley is watching them. Someone responsible for three of the biggest ideas at Google is going to come up with more.5. Sam AltmanI was told I shouldn\\'t mention founders of YC-funded companies in this list. But Sam Altman can\\'t be stopped by such flimsy rules. If he wants to be on this list, he\\'s going to be. Honestly, Sam is, along with Steve Jobs, the founder I refer to most when I\\'m advising startups. On questions of design, I ask \"What would Steve do?\" but on questions of strategy or ambition I ask \"What would Sama do?\"What I learned from meeting Sama is that the doctrine of the elect applies to startups. It applies way less than most people think: startup investing does not consist of trying to pick winners the way you might in a horse race. But there are a few people with such force of will that they\\'re going to get whatever they want.',\n",
       " 'What We Look for in Founders\\n\\nOctober 2010\\n\\nWant to start a startup? Get funded by Y Combinator.  (I wrote this for Forbes, who asked me to write something about the qualities we look for in founders. In print they had to cut the last item because they didn\\'t have room.)1. DeterminationThis has turned out to be the most important quality in startup founders. We thought when we started Y Combinator that the most important quality would be intelligence. That\\'s the myth in the Valley. And certainly you don\\'t want founders to be stupid. But as long as you\\'re over a certain threshold of intelligence, what matters most is determination. You\\'re going to hit a lot of obstacles. You can\\'t be the sort of person who gets demoralized easily. Bill Clerico and Rich Aberman of WePay are a good example. They\\'re doing a finance startup, which means endless negotiations with big, bureaucratic companies. When you\\'re starting a startup that depends on deals with big companies to exist, it often feels like they\\'re trying to ignore you out of existence. But when Bill Clerico starts calling you, you may as well do what he asks, because he is not going away. 2. FlexibilityYou do not however want the sort of determination implied by phrases like \"don\\'t give up on your dreams.\" The world of startups is so unpredictable that you need to be able to modify your dreams on the fly. The best metaphor I\\'ve found for the combination of determination and flexibility you need is a running back. He\\'s determined to get downfield, but at any given moment he may need to go sideways or even backwards to get there. The current record holder for flexibility may be Daniel Gross of Greplin. He applied to YC with some bad ecommerce idea. We told him we\\'d fund him if he did something else. He thought for a second, and said ok. He then went through two more ideas before settling on Greplin. He\\'d only been working on it for a couple days when he presented to investors at Demo Day, but he got a lot of interest. He always seems to land on his feet. 3. ImaginationIntelligence does matter a lot of course. It seems like the type that matters most is imagination. It\\'s not so important to be able to solve predefined problems quickly as to be able to come up with surprising new ideas. In the startup world, most good ideas seem bad initially. If they were obviously good, someone would already be doing them. So you need the kind of intelligence that produces ideas with just the right level of craziness. Airbnb is that kind of idea. In fact, when we funded Airbnb, we thought it was too crazy. We couldn\\'t believe large numbers of people would want to stay in other people\\'s places. We funded them because we liked the founders so much. As soon as we heard they\\'d been supporting themselves by selling Obama and McCain branded breakfast cereal, they were in. And it turned out the idea was on the right side of crazy after all. 4. NaughtinessThough the most successful founders are usually good people, they tend to have a piratical gleam in their eye. They\\'re not Goody Two-Shoes type good. Morally, they care about getting the big questions right, but not about observing proprieties. That\\'s why I\\'d use the word naughty rather than evil. They delight in breaking rules, but not rules that matter. This quality may be redundant though; it may be implied by imagination. Sam Altman of Loopt is one of the most successful alumni, so we asked him what question we could put on the Y Combinator application that would help us discover more people like him. He said to ask about a time when they\\'d hacked something to their advantage—hacked in the sense of beating the system, not breaking into computers. It has become one of the questions we pay most attention to when judging applications. 5. FriendshipEmpirically it seems to be hard to start a startup with just one founder. Most of the big successes have two or three. And the relationship between the founders has to be strong. They must genuinely like one another, and work well together. Startups do to the relationship between the founders what a dog does to a sock: if it can be pulled apart, it will be. Emmett Shear and Justin Kan of Justin. tv are a good example of close friends who work well together. They\\'ve known each other since second grade. They can practically read one another\\'s minds. I\\'m sure they argue, like all founders, but I have never once sensed any unresolved tension between them.\\n\\nThanks to Jessica Livingston and Chris Steiner for reading drafts of this.']"
      ]
     },
     "execution_count": 8,
     "metadata": {},
     "output_type": "execute_result"
    }
   ],
   "source": [
    "ex_context = [source_node.node.text for source_node in ex_response.source_nodes]\n",
    "ex_context"
   ]
  },
  {
   "cell_type": "markdown",
   "id": "133a199b",
   "metadata": {},
   "source": [
    "Start using Tonic Validate Logging to log answer to the benchmark questions that are from the RAG system."
   ]
  },
  {
   "cell_type": "code",
   "execution_count": 9,
   "id": "7f6e9117",
   "metadata": {
    "scrolled": true
   },
   "outputs": [],
   "source": [
    "from tvallogging.api import TonicValidateApi\n",
    "from tvallogging.chat_objects import Benchmark"
   ]
  },
  {
   "cell_type": "markdown",
   "id": "ed99bb00",
   "metadata": {},
   "source": [
    "Create a TonicValidateApi instance. For this to work, get a Tonic Validate API key from the Tonic Validate UI and set the environmental variable `TONIC_VALIDATE_API_KEY`."
   ]
  },
  {
   "cell_type": "code",
   "execution_count": 10,
   "id": "a4eb9f3d",
   "metadata": {},
   "outputs": [],
   "source": [
    "# set TONIC_VALIDATE_API_KEY environment variable\n",
    "# import os\n",
    "# os.environ[\"TONIC_VALIDATE_API_KEY\"] = \"put-your-api-key-here\"\n",
    "\n",
    "api = TonicValidateApi()"
   ]
  },
  {
   "cell_type": "markdown",
   "id": "c8a13603",
   "metadata": {},
   "source": [
    "Create new benchmark on Tonic Validate server."
   ]
  },
  {
   "cell_type": "code",
   "execution_count": 11,
   "id": "11bfce62",
   "metadata": {
    "scrolled": true
   },
   "outputs": [],
   "source": [
    "benchmark = Benchmark.from_json_list(question_and_answer_list)\n",
    "benchmark_id = api.new_benchmark(benchmark, \"Paul Graham Quickstart Benchmark\")"
   ]
  },
  {
   "cell_type": "markdown",
   "id": "0c5cc21e",
   "metadata": {},
   "source": [
    "Create new project on Tonic Validate server associated with the created benchmark."
   ]
  },
  {
   "cell_type": "code",
   "execution_count": 12,
   "id": "8524dc0c",
   "metadata": {
    "scrolled": true
   },
   "outputs": [],
   "source": [
    "project = api.new_project(benchmark_id, \"Paul Graham Quickstart Project\")"
   ]
  },
  {
   "cell_type": "markdown",
   "id": "15d6181c",
   "metadata": {},
   "source": [
    "Create a run in the in the project and log answers to the qeustions in benchmark with their scores. Specify the scores we want calculated in the run."
   ]
  },
  {
   "cell_type": "code",
   "execution_count": 13,
   "id": "fc5b2fa8",
   "metadata": {
    "scrolled": true
   },
   "outputs": [
    {
     "name": "stdout",
     "output_type": "stream",
     "text": [
      "logged What makes Sam Altman a good founder?\n",
      "logged When was the essay \"Five Founders\" written?\n",
      "logged When does the most dramatic growth happen for a startup?\n",
      "logged What is the problem with business culture versus start up culture with respect to productivity?\n",
      "logged What's the single biggest thing the government could do to increase the number of startups in this country?\n",
      "logged How could one create a rigorous government definition of what a startup is to categorize whether a business is a startup?\n",
      "logged Why is frienship a good quality of founders?\n",
      "logged Why is determination the most important quality in startup founders?\n",
      "logged For startups, what does board control mean in practice?\n",
      "logged What's in the way of founders keeping board control after a series A?\n"
     ]
    }
   ],
   "source": [
    "llm_evaluator = \"gpt-3.5-turbo\"\n",
    "# llm_evaluator = \"gpt-4\"\n",
    "run = project.new_run(\n",
    "    llm_evaluator=llm_evaluator,\n",
    "    answer_similarity_score=True,\n",
    "    retrieval_precision=True,\n",
    "    augmentation_precision=True,\n",
    "    augmentation_accuracy=True,\n",
    "    answer_consistency=True\n",
    ")\n",
    "\n",
    "for q_and_a in run.benchmark.question_with_answer_list:\n",
    "    \n",
    "    # get response to question from rag llm\n",
    "    question = q_and_a.question\n",
    "    response = query_engine.query(question)\n",
    "    \n",
    "    # get answer and context from response\n",
    "    llm_answer = response.response\n",
    "    context_list = [source_node.node.text for source_node in response.source_nodes]\n",
    "    \n",
    "    # log answer and context, this is where scores are calculated\n",
    "    run.log(q_and_a, llm_answer, context_list)\n",
    "    print(f\"logged {q_and_a.question}\")"
   ]
  },
  {
   "cell_type": "code",
   "execution_count": null,
   "id": "f6e9fe23",
   "metadata": {},
   "outputs": [],
   "source": []
  }
 ],
 "metadata": {
  "kernelspec": {
   "display_name": "Python 3 (ipykernel)",
   "language": "python",
   "name": "python3"
  },
  "language_info": {
   "codemirror_mode": {
    "name": "ipython",
    "version": 3
   },
   "file_extension": ".py",
   "mimetype": "text/x-python",
   "name": "python",
   "nbconvert_exporter": "python",
   "pygments_lexer": "ipython3",
   "version": "3.8.11"
  }
 },
 "nbformat": 4,
 "nbformat_minor": 5
}
